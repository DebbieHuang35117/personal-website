{
 "cells": [
  {
   "cell_type": "code",
   "execution_count": 4,
   "id": "7c96ea16",
   "metadata": {},
   "outputs": [],
   "source": [
    "# read pinecone api key from pinecone_api.txt\n",
    "# and store it in the environment variable PINECONE_API_KEY\n",
    "import os\n",
    "import getpass\n",
    "\n",
    "file_path = '../.api-key/pinecone_api.txt'\n",
    "\n",
    "# Open the file and read its contents\n",
    "with open(file_path, 'r') as file:\n",
    "    PINECONE_API_KEY = file.read()\n",
    "\n",
    "os.environ['PINECONE_API_KEY'] = PINECONE_API_KEY"
   ]
  },
  {
   "cell_type": "code",
   "execution_count": 5,
   "id": "2c280bb8",
   "metadata": {},
   "outputs": [],
   "source": [
    "file_path = '../.api-key/open_ai_api.txt'\n",
    "\n",
    "# Open the file and read its contents\n",
    "with open(file_path, 'r') as file:\n",
    "    OPENAI_API_KEY = file.read()\n",
    "\n",
    "os.environ['OPENAI_API_KEY'] = OPENAI_API_KEY"
   ]
  },
  {
   "cell_type": "code",
   "execution_count": 6,
   "id": "c5c53c64-e4a2-4573-bd9d-d06a579a22d9",
   "metadata": {},
   "outputs": [],
   "source": [
    "from langchain.document_loaders import TextLoader\n",
    "from langchain.text_splitter import CharacterTextSplitter"
   ]
  },
  {
   "cell_type": "code",
   "execution_count": 7,
   "id": "1e5a637f",
   "metadata": {},
   "outputs": [],
   "source": [
    "# create a text loader object and load the text\n",
    "text_loader = TextLoader(\"../textdata/text.txt\")\n",
    "documents = text_loader.load()"
   ]
  },
  {
   "cell_type": "code",
   "execution_count": 8,
   "id": "e24df832",
   "metadata": {},
   "outputs": [
    {
     "name": "stderr",
     "output_type": "stream",
     "text": [
      "Created a chunk of size 31, which is longer than the specified 1\n",
      "Created a chunk of size 22, which is longer than the specified 1\n",
      "Created a chunk of size 22, which is longer than the specified 1\n",
      "Created a chunk of size 24, which is longer than the specified 1\n",
      "Created a chunk of size 23, which is longer than the specified 1\n",
      "Created a chunk of size 20, which is longer than the specified 1\n",
      "Created a chunk of size 29, which is longer than the specified 1\n",
      "Created a chunk of size 24, which is longer than the specified 1\n",
      "Created a chunk of size 28, which is longer than the specified 1\n",
      "Created a chunk of size 24, which is longer than the specified 1\n",
      "Created a chunk of size 27, which is longer than the specified 1\n",
      "Created a chunk of size 20, which is longer than the specified 1\n",
      "Created a chunk of size 25, which is longer than the specified 1\n",
      "Created a chunk of size 23, which is longer than the specified 1\n",
      "Created a chunk of size 27, which is longer than the specified 1\n",
      "Created a chunk of size 38, which is longer than the specified 1\n",
      "Created a chunk of size 19, which is longer than the specified 1\n",
      "Created a chunk of size 20, which is longer than the specified 1\n",
      "Created a chunk of size 29, which is longer than the specified 1\n",
      "Created a chunk of size 24, which is longer than the specified 1\n",
      "Created a chunk of size 28, which is longer than the specified 1\n",
      "Created a chunk of size 24, which is longer than the specified 1\n",
      "Created a chunk of size 25, which is longer than the specified 1\n",
      "Created a chunk of size 35, which is longer than the specified 1\n",
      "Created a chunk of size 24, which is longer than the specified 1\n",
      "Created a chunk of size 19, which is longer than the specified 1\n",
      "Created a chunk of size 24, which is longer than the specified 1\n",
      "Created a chunk of size 26, which is longer than the specified 1\n",
      "Created a chunk of size 24, which is longer than the specified 1\n",
      "Created a chunk of size 25, which is longer than the specified 1\n",
      "Created a chunk of size 25, which is longer than the specified 1\n",
      "Created a chunk of size 23, which is longer than the specified 1\n"
     ]
    }
   ],
   "source": [
    "# create a text splitter object\n",
    "text_splitter = CharacterTextSplitter(\n",
    "    separator=\"\\n\", # separator between sentences\n",
    "    chunk_size=1, # max size of a chunk\n",
    "    chunk_overlap=0, # overlapp between chunks\n",
    "    length_function=len, # function to calculate the length of a chunk\n",
    ")\n",
    "\n",
    "# split the text\n",
    "sentences = text_splitter.split_documents(documents)"
   ]
  },
  {
   "cell_type": "code",
   "execution_count": 9,
   "id": "4b8a4b47",
   "metadata": {},
   "outputs": [
    {
     "name": "stdout",
     "output_type": "stream",
     "text": [
      "33\n"
     ]
    }
   ],
   "source": [
    "print(len(sentences))"
   ]
  },
  {
   "cell_type": "markdown",
   "id": "59ed5ea1",
   "metadata": {},
   "source": []
  },
  {
   "cell_type": "code",
   "execution_count": 10,
   "id": "ccb19acc",
   "metadata": {},
   "outputs": [
    {
     "name": "stderr",
     "output_type": "stream",
     "text": [
      "/Users/cody/Desktop/sinica_summer_project/0724_meeting/.conda/lib/python3.11/site-packages/pinecone/data/index.py:1: TqdmWarning: IProgress not found. Please update jupyter and ipywidgets. See https://ipywidgets.readthedocs.io/en/stable/user_install.html\n",
      "  from tqdm.autonotebook import tqdm\n"
     ]
    }
   ],
   "source": [
    "# !pip install -qU langchain-openai\n",
    "from langchain_pinecone import PineconeVectorStore, PineconeEmbeddings\n",
    "\n",
    "# embeddings = PineconeEmbeddings(model=\"text-embedding-3-small\")\n",
    "embeddings = PineconeEmbeddings(model=\"multilingual-e5-large\")\n",
    "index_name = \"sinica-rag-test-0730-multilingual-e5-large\"\n",
    "\n",
    "docsearch = PineconeVectorStore.from_documents(sentences, embedding=embeddings, index_name=index_name)\n",
    "# upload the embeddings to the Pinecone index"
   ]
  },
  {
   "cell_type": "code",
   "execution_count": null,
   "id": "51d323b3",
   "metadata": {},
   "outputs": [],
   "source": []
  }
 ],
 "metadata": {
  "kernelspec": {
   "display_name": "Python 3 (ipykernel)",
   "language": "python",
   "name": "python3"
  },
  "language_info": {
   "codemirror_mode": {
    "name": "ipython",
    "version": 3
   },
   "file_extension": ".py",
   "mimetype": "text/x-python",
   "name": "python",
   "nbconvert_exporter": "python",
   "pygments_lexer": "ipython3",
   "version": "3.11.9"
  }
 },
 "nbformat": 4,
 "nbformat_minor": 5
}
