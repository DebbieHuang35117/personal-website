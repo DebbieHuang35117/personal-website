{
 "cells": [
  {
   "cell_type": "code",
   "execution_count": 1,
   "id": "7c96ea16",
   "metadata": {},
   "outputs": [],
   "source": [
    "# read pinecone api key from pinecone_api.txt\n",
    "# and store it in the environment variable PINECONE_API_KEY\n",
    "import os\n",
    "import getpass\n",
    "\n",
    "file_path = '../.api-key/pinecone_api.txt'\n",
    "\n",
    "# Open the file and read its contents\n",
    "with open(file_path, 'r') as file:\n",
    "    PINECONE_API_KEY = file.read()\n",
    "\n",
    "os.environ['PINECONE_API_KEY'] = PINECONE_API_KEY"
   ]
  },
  {
   "cell_type": "code",
   "execution_count": 2,
   "id": "2c280bb8",
   "metadata": {},
   "outputs": [],
   "source": [
    "file_path = '../.api-key/open_ai_api.txt'\n",
    "\n",
    "# Open the file and read its contents\n",
    "with open(file_path, 'r') as file:\n",
    "    OPENAI_API_KEY = file.read()\n",
    "\n",
    "os.environ['OPENAI_API_KEY'] = OPENAI_API_KEY"
   ]
  },
  {
   "cell_type": "code",
   "execution_count": 3,
   "id": "c5c53c64-e4a2-4573-bd9d-d06a579a22d9",
   "metadata": {},
   "outputs": [
    {
     "name": "stdout",
     "output_type": "stream",
     "text": [
      "\u001b[33mWARNING: Ignoring invalid distribution ~angchain-core (/opt/homebrew/anaconda3/lib/python3.11/site-packages)\u001b[0m\u001b[33m\n",
      "\u001b[0m\u001b[33mWARNING: Ignoring invalid distribution ~angchain-core (/opt/homebrew/anaconda3/lib/python3.11/site-packages)\u001b[0m\u001b[33m\n",
      "\u001b[0m\u001b[33mWARNING: Ignoring invalid distribution ~angchain-core (/opt/homebrew/anaconda3/lib/python3.11/site-packages)\u001b[0m\u001b[33m\n",
      "\u001b[0m"
     ]
    }
   ],
   "source": [
    "from langchain.document_loaders import TextLoader\n",
    "from langchain.text_splitter import CharacterTextSplitter"
   ]
  },
  {
   "cell_type": "code",
   "execution_count": 4,
   "id": "1e5a637f",
   "metadata": {},
   "outputs": [],
   "source": [
    "# create a text loader object and load the text\n",
    "text_loader = TextLoader(\"../textdata/text.txt\")\n",
    "documents = text_loader.load()"
   ]
  },
  {
   "cell_type": "code",
   "execution_count": 5,
   "id": "e24df832",
   "metadata": {},
   "outputs": [
    {
     "name": "stderr",
     "output_type": "stream",
     "text": [
      "Created a chunk of size 31, which is longer than the specified 1\n",
      "Created a chunk of size 22, which is longer than the specified 1\n",
      "Created a chunk of size 22, which is longer than the specified 1\n",
      "Created a chunk of size 24, which is longer than the specified 1\n",
      "Created a chunk of size 23, which is longer than the specified 1\n",
      "Created a chunk of size 20, which is longer than the specified 1\n",
      "Created a chunk of size 29, which is longer than the specified 1\n",
      "Created a chunk of size 24, which is longer than the specified 1\n",
      "Created a chunk of size 28, which is longer than the specified 1\n",
      "Created a chunk of size 24, which is longer than the specified 1\n",
      "Created a chunk of size 27, which is longer than the specified 1\n",
      "Created a chunk of size 20, which is longer than the specified 1\n",
      "Created a chunk of size 25, which is longer than the specified 1\n",
      "Created a chunk of size 23, which is longer than the specified 1\n",
      "Created a chunk of size 27, which is longer than the specified 1\n",
      "Created a chunk of size 38, which is longer than the specified 1\n",
      "Created a chunk of size 19, which is longer than the specified 1\n",
      "Created a chunk of size 20, which is longer than the specified 1\n",
      "Created a chunk of size 29, which is longer than the specified 1\n",
      "Created a chunk of size 24, which is longer than the specified 1\n",
      "Created a chunk of size 28, which is longer than the specified 1\n",
      "Created a chunk of size 24, which is longer than the specified 1\n",
      "Created a chunk of size 25, which is longer than the specified 1\n",
      "Created a chunk of size 35, which is longer than the specified 1\n",
      "Created a chunk of size 24, which is longer than the specified 1\n",
      "Created a chunk of size 19, which is longer than the specified 1\n",
      "Created a chunk of size 24, which is longer than the specified 1\n",
      "Created a chunk of size 26, which is longer than the specified 1\n",
      "Created a chunk of size 24, which is longer than the specified 1\n",
      "Created a chunk of size 25, which is longer than the specified 1\n",
      "Created a chunk of size 25, which is longer than the specified 1\n",
      "Created a chunk of size 23, which is longer than the specified 1\n"
     ]
    },
    {
     "name": "stdout",
     "output_type": "stream",
     "text": [
      "page_content='I 7/21 Lunch: sandwich' metadata={'source': '../textdata/text.txt'}\n"
     ]
    }
   ],
   "source": [
    "# create a text splitter object\n",
    "text_splitter = CharacterTextSplitter(\n",
    "    separator=\"\\n\", # separator between sentences\n",
    "    chunk_size=1, # max size of a chunk\n",
    "    chunk_overlap=0, # overlapp between chunks\n",
    "    length_function=len, # function to calculate the length of a chunk\n",
    ")\n",
    "\n",
    "# split the text\n",
    "sentences = text_splitter.split_documents(documents)\n",
    "\n",
    "print(sentences[1])"
   ]
  },
  {
   "cell_type": "code",
   "execution_count": 6,
   "id": "4b8a4b47",
   "metadata": {},
   "outputs": [
    {
     "name": "stdout",
     "output_type": "stream",
     "text": [
      "33\n"
     ]
    }
   ],
   "source": [
    "print(len(sentences))"
   ]
  },
  {
   "cell_type": "code",
   "execution_count": 7,
   "id": "ccb19acc",
   "metadata": {},
   "outputs": [
    {
     "name": "stdout",
     "output_type": "stream",
     "text": [
      "\u001b[33mWARNING: Ignoring invalid distribution ~angchain-core (/opt/homebrew/anaconda3/lib/python3.11/site-packages)\u001b[0m\u001b[33m\n",
      "\u001b[0m\u001b[33mWARNING: Ignoring invalid distribution ~angchain-core (/opt/homebrew/anaconda3/lib/python3.11/site-packages)\u001b[0m\u001b[33m\n",
      "\u001b[0m\u001b[33mWARNING: Ignoring invalid distribution ~angchain-core (/opt/homebrew/anaconda3/lib/python3.11/site-packages)\u001b[0m\u001b[33m\n",
      "\u001b[0m"
     ]
    }
   ],
   "source": [
    "# !pip install -qU langchain-openai\n",
    "\n",
    "from langchain_pinecone import PineconeVectorStore\n",
    "from langchain_openai import OpenAIEmbeddings\n",
    "\n",
    "embeddings = OpenAIEmbeddings(model=\"text-embedding-3-small\")\n",
    "index_name = \"sinica-rag-test-0730-text-embedding-3-small\"\n",
    "\n",
    "docsearch = PineconeVectorStore.from_documents(sentences, embedding=embeddings, index_name=index_name)\n",
    "# upload the embeddings to the Pinecone index"
   ]
  }
 ],
 "metadata": {
  "kernelspec": {
   "display_name": "Python 3 (ipykernel)",
   "language": "python",
   "name": "python3"
  },
  "language_info": {
   "codemirror_mode": {
    "name": "ipython",
    "version": 3
   },
   "file_extension": ".py",
   "mimetype": "text/x-python",
   "name": "python",
   "nbconvert_exporter": "python",
   "pygments_lexer": "ipython3",
   "version": "3.11.5"
  }
 },
 "nbformat": 4,
 "nbformat_minor": 5
}
